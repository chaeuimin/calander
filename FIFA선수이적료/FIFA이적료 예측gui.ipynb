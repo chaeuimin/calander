{
 "cells": [
  {
   "cell_type": "code",
   "execution_count": 1,
   "id": "fc7f9fca",
   "metadata": {},
   "outputs": [
    {
     "ename": "ValueError",
     "evalue": "invalid literal for int() with base 10: 'st'",
     "output_type": "error",
     "traceback": [
      "\u001b[1;31m---------------------------------------------------------------------------\u001b[0m",
      "\u001b[1;31mValueError\u001b[0m                                Traceback (most recent call last)",
      "Input \u001b[1;32mIn [1]\u001b[0m, in \u001b[0;36mDemoForm.send\u001b[1;34m(self)\u001b[0m\n\u001b[0;32m     33\u001b[0m age \u001b[38;5;241m=\u001b[39m \u001b[38;5;28mint\u001b[39m(\u001b[38;5;28mself\u001b[39m\u001b[38;5;241m.\u001b[39mlineEdit\u001b[38;5;241m.\u001b[39mtext())\n\u001b[0;32m     34\u001b[0m contract_until \u001b[38;5;241m=\u001b[39m \u001b[38;5;28mint\u001b[39m(\u001b[38;5;28mself\u001b[39m\u001b[38;5;241m.\u001b[39mlineEdit_2\u001b[38;5;241m.\u001b[39mtext())\n\u001b[1;32m---> 35\u001b[0m position \u001b[38;5;241m=\u001b[39m \u001b[38;5;28;43mint\u001b[39;49m\u001b[43m(\u001b[49m\u001b[38;5;28;43mself\u001b[39;49m\u001b[38;5;241;43m.\u001b[39;49m\u001b[43mlineEdit_3\u001b[49m\u001b[38;5;241;43m.\u001b[39;49m\u001b[43mtext\u001b[49m\u001b[43m(\u001b[49m\u001b[43m)\u001b[49m\u001b[43m)\u001b[49m\n\u001b[0;32m     36\u001b[0m reputation \u001b[38;5;241m=\u001b[39m \u001b[38;5;28mint\u001b[39m(\u001b[38;5;28mself\u001b[39m\u001b[38;5;241m.\u001b[39mlineEdit_4\u001b[38;5;241m.\u001b[39mtext())\n\u001b[0;32m     37\u001b[0m stat_overall \u001b[38;5;241m=\u001b[39m \u001b[38;5;28mint\u001b[39m(\u001b[38;5;28mself\u001b[39m\u001b[38;5;241m.\u001b[39mlineEdit_5\u001b[38;5;241m.\u001b[39mtext())\n",
      "\u001b[1;31mValueError\u001b[0m: invalid literal for int() with base 10: 'st'"
     ]
    }
   ],
   "source": [
    "import sys\n",
    "import joblib\n",
    "import numpy as np\n",
    "import pandas as pd\n",
    "from PyQt5.QtWidgets import*\n",
    "from PyQt5 import QtGui\n",
    "from PyQt5 import uic\n",
    "from PyQt5 import QtCore, QtWidgets\n",
    "form_class = uic.loadUiType(\"FIFA 이적료 예측.xml\")[0]\n",
    "form_second=uic.loadUiType(\"입력예시.xml\")[0]\n",
    "new_face=[]\n",
    "\n",
    "\n",
    "class second(QMainWindow,form_second):\n",
    "    def __init__(self, parent = None):\n",
    "        \n",
    "        super(second, self).__init__()\n",
    "        #self.ui =uic.loadUiType(\"C:\\\\Users\\\\user\\\\FIFA선수이적료\\\\입력예시.xml\")[0]\n",
    "        self.setupUi(self)\n",
    "\n",
    "\n",
    "class DemoForm(QMainWindow, form_class):\n",
    "    \n",
    "    def __init__(self):\n",
    "        super().__init__()\n",
    "        self.setupUi(self)\n",
    "        self.label_10.setGeometry(QtCore.QRect(0,0,1100,600))\n",
    "        self.label_10.setPixmap(QtGui.QPixmap(\"피파배경.png\"))\n",
    "        self.label_11.setGeometry(QtCore.QRect(50,230,300,400))\n",
    "        self.label_11.setPixmap(QtGui.QPixmap(\"카드배경.png\"))    \n",
    "    def send(self):\n",
    "        global new_face\n",
    "        age = int(self.lineEdit.text())\n",
    "        contract_until = int(self.lineEdit_2.text())\n",
    "        position = int(self.lineEdit_3.text())\n",
    "        reputation = int(self.lineEdit_4.text())\n",
    "        stat_overall = int(self.lineEdit_5.text())\n",
    "        stat_potential = int(self.lineEdit_6.text())\n",
    "        stat_skill_moves = int(self.lineEdit_7.text())\n",
    "        new_face.append(age)\n",
    "        new_face.append(contract_until)\n",
    "        new_face.append(position)\n",
    "        new_face.append(reputation)\n",
    "        new_face.append(stat_overall)\n",
    "        new_face.append(stat_potential)\n",
    "        new_face.append(stat_skill_moves)\n",
    "\n",
    "        loaded_model = joblib.load('adboost.pkl')\n",
    "        new_face = np.array(new_face)\n",
    "        new_face = new_face.reshape(1,7)\n",
    "        predict_value = loaded_model.predict(new_face)\n",
    "        self.label.setText(str(predict_value))\n",
    "    def second_window(self):\n",
    "        self.secondwindow = second(self)\n",
    "        self.secondwindow.show()\n",
    "\n",
    "        \n",
    "if __name__ == \"__main__\" :\n",
    "\n",
    "    app = QApplication(sys.argv) \n",
    "\n",
    "    demoWindow = DemoForm() \n",
    "\n",
    "    demoWindow.show()\n",
    "\n",
    "    app.exec_()"
   ]
  },
  {
   "cell_type": "code",
   "execution_count": null,
   "id": "c8dd08cf",
   "metadata": {},
   "outputs": [],
   "source": []
  },
  {
   "cell_type": "code",
   "execution_count": null,
   "id": "822d207e",
   "metadata": {},
   "outputs": [],
   "source": []
  },
  {
   "cell_type": "code",
   "execution_count": null,
   "id": "aefe8cb1",
   "metadata": {},
   "outputs": [],
   "source": []
  }
 ],
 "metadata": {
  "kernelspec": {
   "display_name": "Python 3 (ipykernel)",
   "language": "python",
   "name": "python3"
  },
  "language_info": {
   "codemirror_mode": {
    "name": "ipython",
    "version": 3
   },
   "file_extension": ".py",
   "mimetype": "text/x-python",
   "name": "python",
   "nbconvert_exporter": "python",
   "pygments_lexer": "ipython3",
   "version": "3.9.12"
  },
  "vscode": {
   "interpreter": {
    "hash": "fb4569285eef3a3450cb62085a5b1e0da4bce0af555edc33dcf29baf3acc1368"
   }
  }
 },
 "nbformat": 4,
 "nbformat_minor": 5
}
